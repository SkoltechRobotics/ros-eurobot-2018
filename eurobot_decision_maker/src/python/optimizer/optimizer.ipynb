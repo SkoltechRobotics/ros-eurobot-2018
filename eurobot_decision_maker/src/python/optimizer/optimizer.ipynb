{
 "cells": [
  {
   "cell_type": "code",
   "execution_count": 78,
   "metadata": {},
   "outputs": [],
   "source": [
    "import gurobipy as grb\n",
    "import numpy as np\n",
    "import itertools"
   ]
  },
  {
   "cell_type": "code",
   "execution_count": 79,
   "metadata": {},
   "outputs": [],
   "source": [
    "def iterer(*args):\n",
    "    return itertools.product(*[range(x_) for x_ in args])"
   ]
  },
  {
   "cell_type": "code",
   "execution_count": 84,
   "metadata": {},
   "outputs": [],
   "source": [
    "class Optimizer:\n",
    "    \"\"\"\n",
    "        Single (big) robot optimizer\n",
    "    \"\"\"\n",
    "    actions = {\n",
    "        \"heaps\": 6,\n",
    "        \"funny\": 2,\n",
    "        \"disposal\": 1,\n",
    "        \"base\": 1\n",
    "    }\n",
    "    def __init__(self, **kvargs):\n",
    "        self.model = grb.Model(\"eurobot\")\n",
    "        self.actions = {}\n",
    "        \n",
    "        # choose some certain actions\n",
    "        # by default all from Optimizer.actions\n",
    "        if \"actions\" in kvargs:\n",
    "            try:\n",
    "                for a in kvargs[\"actions\"]:\n",
    "                    self.actions[a] = Optimizer.actions[a]\n",
    "            except:\n",
    "                print(\"Error: wrong actions in kvargs\")\n",
    "        else:\n",
    "            self.actions.update(Optimizer.actions)\n",
    "        \n",
    "        \n",
    "        # N for total available actions (from them we can choose)\n",
    "        self.N = sum(self.actions.values())\n",
    "        # S for total maximal number of actions can be created by optimizer\n",
    "        self.S = self.N - 3\n",
    "        self.x = self.model.addVars(range(self.S), range(self.N), name = 'x', vtype=grb.GRB.BINARY)\n",
    "        \n",
    "        #define positions of all actions in x variable\n",
    "        self.actions_iters = {}\n",
    "        i = 0\n",
    "        for a in self.actions:\n",
    "            self.actions_iters[a] = list(range(i,i+self.actions[a]))\n",
    "            i += self.actions[a]\n",
    "        print(self.actions_iters)\n",
    "        self.extra_conditions = []\n",
    "       \n",
    "        # set default Time Matrix\n",
    "        self.createDefaultTimeMatrix()\n",
    "        \n",
    "        # create time constraint/objective\n",
    "        self.createTimeConstraint()\n",
    "        \n",
    "        # create points contraint/objective\n",
    "        self.createPointsConstraint()\n",
    "        \n",
    "        self.Time = 100.0\n",
    "        self.Points = 220.0\n",
    "    \n",
    "        self.objective = \"time\"\n",
    "        if \"objective\" in kvargs:\n",
    "            if kvargs[\"objective\"] in [\"time\",\"points\",\"mixed\"]:\n",
    "                self.objective = kvargs[\"objective\"]\n",
    "        \n",
    "    def resetConstraints(self):\n",
    "        self.model.remove(self.model.getConstrs())\n",
    "        \n",
    "    def createDefaultTimeMatrix(self):\n",
    "        ## Calculate time matrix\n",
    "        # places with cubes\n",
    "        heap_points = np.array([[54, 85, 0], [119, 30, 0], [150, 110, 0], [150, 190, 0], [119, 270, 0], [54, 215, 0]])\n",
    "\n",
    "        # starting place of robot\n",
    "        # to be redefined at the start of the algorithm\n",
    "        base_point  = np.array([[15, 15, 0]])\n",
    "\n",
    "        # disposal place \n",
    "        # TODO: add another side of field\n",
    "        disposal_point = np.array([[10, 61, 0]])\n",
    "\n",
    "        # funny action places\n",
    "        funny_points = np.array([[10, 113, 0], [190, 10, 0]])\n",
    "\n",
    "        action_points = np.concatenate((heap_points, funny_points, disposal_point, base_point))\n",
    "\n",
    "        # time is simple distance / v\n",
    "        v = 20\n",
    "\n",
    "        self.time_travel = np.sum((action_points[np.newaxis,:]-action_points[:,np.newaxis]) ** 2, axis = 2)**0.5 / v\n",
    "        \n",
    "    def addDefaultConstraints(self):\n",
    "        # unique action per 's'-tep\n",
    "        self.model.addConstrs((self.x.sum(s, '*') == 1 for s in iterer(self.S)));\n",
    "        \n",
    "        # each action can be done only once\n",
    "        self.model.addConstrs((self.x.sum('*', i) <= 1 for i in range(self.N)));\n",
    "            \n",
    "        # now max 3 heaps\n",
    "        self.model.addConstr(grb.quicksum((self.x.sum('*',i) for i in iterer(self.actions[\"heaps\"]))) <= 3 );\n",
    "        \n",
    "        # disposal after all 3 heaps picking\n",
    "        for s, k in iterer(self.S,self.actions[\"heaps\"]):\n",
    "            self.model.addConstr( grb.quicksum( (self.x[s_,self.actions_iters[\"disposal\"][0]] for s_ in range(s,self.S)) )\n",
    "                                 >= self.x[s,k] );\n",
    "        # starting from base point\n",
    "        self.model.addConstr(self.x[0,self.actions_iters[\"base\"][0]] == 1);\n",
    "        \n",
    "    def createTimeConstraint(self):\n",
    "        time_travel_constr_gen = (self.x[s, k_1] * self.x[s+1, k_2] * self.time_travel[k_1, k_2] for  s,k_1, k_2 in \n",
    "                                  #[(0,9, 2)])\n",
    "                                  iterer(self.S-1,self.N,self.N))\n",
    "        left_part_time_1 = grb.quicksum(time_travel_constr_gen)\n",
    "\n",
    "        self.left_part_time = left_part_time_1\n",
    "    \n",
    "    def createPointsConstraint(self):\n",
    "        #TODO: rewrite with points array\n",
    "        self.total_points = 45*grb.quicksum((self.x.sum('*',k) for k in self.actions_iters[\"heaps\"])) + \\\n",
    "                                         30*self.x.sum('*',self.actions_iters[\"funny\"][0]) + \\\n",
    "                                         55*self.x.sum('*',self.actions_iters[\"funny\"][1]);\n",
    "    def setObjective(self):\n",
    "        \"\"\"\n",
    "            minimize \"time\"\n",
    "            or\n",
    "            maximize \"points\"\n",
    "        \"\"\"\n",
    "        if self.objective==\"time\":\n",
    "            self.model.addConstr(self.total_points == self.Points, 'points')\n",
    "            self.model.setObjective(self.left_part_time, grb.GRB.MINIMIZE)\n",
    "        elif self.objective==\"points\":\n",
    "            self.model.addConstr(self.left_part_time <= self.Time, 'time')\n",
    "            self.model.setObjective(self.total_points, grb.GRB.MAXIMIZE)\n",
    "        elif self.objective==\"mixed\":\n",
    "            self.model.addConstr(self.left_part_time <= self.Time, 'time')\n",
    "            self.model.setObjective(self.total_points - self.left_part_time/200, grb.GRB.MAXIMIZE)\n",
    "    \n",
    "    def run(self):\n",
    "        self.resetConstraints()\n",
    "        self.addDefaultConstraints()\n",
    "        self.setObjective()\n",
    "        \n",
    "        self.model.update()\n",
    "        self.model.optimize()\n",
    "        self.model.printAttr('x')"
   ]
  },
  {
   "cell_type": "code",
   "execution_count": 85,
   "metadata": {},
   "outputs": [
    {
     "name": "stdout",
     "output_type": "stream",
     "text": [
      "{'heaps': [0, 1, 2, 3, 4, 5], 'funny': [6, 7], 'disposal': [8], 'base': [9]}\n"
     ]
    }
   ],
   "source": [
    "opt = Optimizer(objective=\"mixed\")"
   ]
  },
  {
   "cell_type": "code",
   "execution_count": 86,
   "metadata": {},
   "outputs": [
    {
     "name": "stdout",
     "output_type": "stream",
     "text": [
      "Optimize a model with 61 rows, 70 columns and 393 nonzeros\n",
      "Model has 540 quadratic objective terms\n",
      "Model has 1 quadratic constraint\n",
      "Variable types: 0 continuous, 70 integer (70 binary)\n",
      "Coefficient statistics:\n",
      "  Matrix range     [1e+00, 1e+00]\n",
      "  QMatrix range    [2e+00, 1e+01]\n",
      "  Objective range  [3e+01, 6e+01]\n",
      "  QObjective range [2e-02, 1e-01]\n",
      "  Bounds range     [1e+00, 1e+00]\n",
      "  RHS range        [1e+00, 3e+00]\n",
      "  QRHS range       [1e+02, 1e+02]\n",
      "Modified 48 Q diagonals\n",
      "Modified 48 Q diagonals\n",
      "Presolve removed 15 rows and 22 columns\n",
      "Presolve time: 0.47s\n",
      "Presolved: 46 rows, 48 columns, 270 nonzeros\n",
      "Presolved model has 360 quadratic objective terms\n",
      "Variable types: 0 continuous, 48 integer (48 binary)\n",
      "\n",
      "Root relaxation: objective 2.209842e+02, 97 iterations, 0.01 seconds\n",
      "\n",
      "    Nodes    |    Current Node    |     Objective Bounds      |     Work\n",
      " Expl Unexpl |  Obj  Depth IntInf | Incumbent    BestBd   Gap | It/Node Time\n",
      "\n",
      "     0     0  220.98416    0   48          -  220.98416      -     -    0s\n",
      "     0     0  220.97627    0   48          -  220.97627      -     -    0s\n",
      "H    0     0                     219.7971220  220.97627  0.54%     -    0s\n",
      "     0     2  220.97627    0   48  219.79712  220.97627  0.54%     -    0s\n",
      "*  138    88              18     219.8037161  220.58622  0.36%   3.2    0s\n",
      "*  156    98              15     219.8051939  220.55107  0.34%   3.2    0s\n",
      "*  173   102               6     219.8158144  220.55021  0.33%   3.5    0s\n",
      "*  174   102               6     219.8269613  220.55021  0.33%   3.5    0s\n",
      "H  182   102                     219.8436543  220.55021  0.32%   3.5    0s\n",
      "*  251   113              13     219.8610406  220.51738  0.30%   3.6    0s\n",
      "H  313   139                     219.8665478  220.50153  0.29%   3.6    0s\n",
      "* 1235   374              28     219.8677879  220.24556  0.17%   5.2    0s\n",
      "* 1423   328              28     219.8775255  220.21723  0.15%   5.2    0s\n",
      "H 1821   296                     219.8780339  220.11137  0.11%   5.2    1s\n",
      "\n",
      "Explored 2827 nodes (15588 simplex iterations) in 1.19 seconds\n",
      "Thread count was 4 (of 4 available processors)\n",
      "\n",
      "Solution count 10: 219.878 219.878 219.868 ... 219.804\n",
      "\n",
      "Optimal solution found (tolerance 1.00e-04)\n",
      "Best objective 2.198780339339e+02, best bound 2.198780339339e+02, gap 0.0000%\n",
      "\n",
      "    Variable            x \n",
      "-------------------------\n",
      "      x[0,9]            1 \n",
      "      x[1,1]            1 \n",
      "      x[2,7]            1 \n",
      "      x[3,2]            1 \n",
      "      x[4,0]            1 \n",
      "      x[5,8]            1 \n",
      "      x[6,6]            1 \n"
     ]
    }
   ],
   "source": [
    "opt.run()"
   ]
  },
  {
   "cell_type": "code",
   "execution_count": 87,
   "metadata": {},
   "outputs": [
    {
     "data": {
      "text/plain": [
       "24.393213213192926"
      ]
     },
     "execution_count": 87,
     "metadata": {},
     "output_type": "execute_result"
    }
   ],
   "source": [
    "opt.left_part_time.getValue()"
   ]
  },
  {
   "cell_type": "code",
   "execution_count": 88,
   "metadata": {},
   "outputs": [
    {
     "data": {
      "text/plain": [
       "220.0"
      ]
     },
     "execution_count": 88,
     "metadata": {},
     "output_type": "execute_result"
    }
   ],
   "source": [
    "opt.total_points.getValue()"
   ]
  },
  {
   "cell_type": "code",
   "execution_count": 73,
   "metadata": {},
   "outputs": [
    {
     "name": "stdout",
     "output_type": "stream",
     "text": [
      "(0, 9)\n",
      "(1, 1)\n",
      "(2, 7)\n",
      "(3, 2)\n",
      "(4, 0)\n",
      "(5, 8)\n",
      "(6, 6)\n"
     ]
    }
   ],
   "source": [
    "for x in opt.x.items():\n",
    "    if abs(x[1].X - 1) < 0.1:\n",
    "        print(x[0])"
   ]
  },
  {
   "cell_type": "code",
   "execution_count": null,
   "metadata": {},
   "outputs": [],
   "source": []
  },
  {
   "cell_type": "code",
   "execution_count": 74,
   "metadata": {},
   "outputs": [
    {
     "name": "stdout",
     "output_type": "stream",
     "text": [
      "a 1\n"
     ]
    }
   ],
   "source": [
    "for k,v in {'a':1}.items():\n",
    "    print(k,v)"
   ]
  },
  {
   "cell_type": "code",
   "execution_count": 77,
   "metadata": {},
   "outputs": [
    {
     "data": {
      "text/plain": [
       "('a', 'b')"
      ]
     },
     "execution_count": 77,
     "metadata": {},
     "output_type": "execute_result"
    }
   ],
   "source": [
    "tuple(k for k in {\"a\":1,\"b\":2})"
   ]
  },
  {
   "cell_type": "code",
   "execution_count": 93,
   "metadata": {},
   "outputs": [
    {
     "data": {
      "text/plain": [
       "1.5707963267948966"
      ]
     },
     "execution_count": 93,
     "metadata": {},
     "output_type": "execute_result"
    }
   ],
   "source": [
    "(3+1/2)*np.pi % np.pi"
   ]
  },
  {
   "cell_type": "code",
   "execution_count": 94,
   "metadata": {},
   "outputs": [],
   "source": [
    "a = [1,2,3]"
   ]
  },
  {
   "cell_type": "code",
   "execution_count": 95,
   "metadata": {},
   "outputs": [],
   "source": [
    "b = a.copy()"
   ]
  },
  {
   "cell_type": "code",
   "execution_count": null,
   "metadata": {},
   "outputs": [],
   "source": []
  }
 ],
 "metadata": {
  "kernelspec": {
   "display_name": "Python 3",
   "language": "python",
   "name": "python3"
  },
  "language_info": {
   "codemirror_mode": {
    "name": "ipython",
    "version": 3
   },
   "file_extension": ".py",
   "mimetype": "text/x-python",
   "name": "python",
   "nbconvert_exporter": "python",
   "pygments_lexer": "ipython3",
   "version": "3.6.1"
  }
 },
 "nbformat": 4,
 "nbformat_minor": 2
}
