{
 "cells": [
  {
   "cell_type": "code",
   "execution_count": 1,
   "metadata": {},
   "outputs": [],
   "source": [
    "import gurobipy as grb\n",
    "import numpy as np\n",
    "import itertools"
   ]
  },
  {
   "cell_type": "code",
   "execution_count": 2,
   "metadata": {},
   "outputs": [],
   "source": [
    "import IPython.display "
   ]
  },
  {
   "cell_type": "code",
   "execution_count": 164,
   "metadata": {},
   "outputs": [],
   "source": [
    "model = grb.Model(\"eurobot\")"
   ]
  },
  {
   "cell_type": "markdown",
   "metadata": {},
   "source": [
    "Now we just take 3 heaps maximum and dispose them"
   ]
  },
  {
   "cell_type": "markdown",
   "metadata": {},
   "source": [
    "   - 6 possible heaps\n",
    "   - 2 funny actions\n",
    "   - 1 possible tower disposal action\n",
    " "
   ]
  },
  {
   "cell_type": "code",
   "execution_count": 165,
   "metadata": {},
   "outputs": [],
   "source": [
    "K, F, D, B = 6, 2, 1, 1\n",
    "S =  K + F + D + B - 3\n",
    "max_towers = 3\n",
    "\n",
    "def iterer(*args):\n",
    "    return itertools.product(*[range(x_) for x_ in args])"
   ]
  },
  {
   "cell_type": "code",
   "execution_count": 166,
   "metadata": {},
   "outputs": [],
   "source": [
    "x = model.addVars(range(S), range(K + F + D + B), name = 'x', vtype=grb.GRB.BINARY)"
   ]
  },
  {
   "cell_type": "code",
   "execution_count": 167,
   "metadata": {},
   "outputs": [],
   "source": [
    "model.remove(model.getConstrs())"
   ]
  },
  {
   "cell_type": "markdown",
   "metadata": {},
   "source": [
    "## Unique action per step"
   ]
  },
  {
   "cell_type": "code",
   "execution_count": 168,
   "metadata": {},
   "outputs": [],
   "source": [
    "# at each step s we can do only one action\n",
    "model.addConstrs((x.sum(s, '*') == 1 for s in iterer(S)));"
   ]
  },
  {
   "cell_type": "markdown",
   "metadata": {},
   "source": [
    "## Unique actions"
   ]
  },
  {
   "cell_type": "code",
   "execution_count": 169,
   "metadata": {},
   "outputs": [],
   "source": [
    "model.addConstrs((x.sum('*', i) <= 1 for i in range(K+F+B+D)));"
   ]
  },
  {
   "cell_type": "markdown",
   "metadata": {},
   "source": [
    "## Max 3 heaps"
   ]
  },
  {
   "cell_type": "code",
   "execution_count": 170,
   "metadata": {},
   "outputs": [],
   "source": [
    "model.addConstr(grb.quicksum((x.sum('*',i) for i in iterer(K))) <= max_towers );"
   ]
  },
  {
   "cell_type": "markdown",
   "metadata": {},
   "source": [
    "## Disposal after all heap picking actions"
   ]
  },
  {
   "cell_type": "code",
   "execution_count": 171,
   "metadata": {},
   "outputs": [],
   "source": [
    "for s, k in iterer(S,K):\n",
    "    model.addConstr( grb.quicksum( (x[s_,K+F] for s_ in range(s,S)) ) >= x[s,k] )"
   ]
  },
  {
   "cell_type": "markdown",
   "metadata": {},
   "source": [
    "## Starting from Base"
   ]
  },
  {
   "cell_type": "code",
   "execution_count": 172,
   "metadata": {},
   "outputs": [],
   "source": [
    "model.addConstr(x[0,K+F+D] == 1);"
   ]
  },
  {
   "cell_type": "markdown",
   "metadata": {},
   "source": [
    "## Time"
   ]
  },
  {
   "cell_type": "code",
   "execution_count": 173,
   "metadata": {},
   "outputs": [],
   "source": [
    "# places with cubes\n",
    "heap_points = np.array([[54, 85, 0], [119, 30, 0], [150, 110, 0], [150, 190, 0], [119, 270, 0], [54, 215, 0]])\n",
    "\n",
    "# starting place of robot\n",
    "# to be redefined at the start of the algorithm\n",
    "base_point  = np.array([[15, 15, 0]])\n",
    "\n",
    "# disposal place \n",
    "# TODO: add another side of field\n",
    "disposal_point = np.array([[10, 61, 0]])\n",
    "\n",
    "# funny action places\n",
    "funny_points = np.array([[10, 113, 0], [190, 10, 0]])\n",
    "\n",
    "action_points = np.concatenate((heap_points, funny_points, disposal_point, base_point))\n",
    "\n",
    "# time is simple distance / v\n",
    "v = 20\n",
    "\n",
    "time_travel = np.sum((action_points[np.newaxis,:]-action_points[:,np.newaxis]) ** 2, axis = 2)**0.5 / v"
   ]
  },
  {
   "cell_type": "code",
   "execution_count": 174,
   "metadata": {},
   "outputs": [
    {
     "name": "stdout",
     "output_type": "stream",
     "text": [
      "CPU times: user 24 ms, sys: 4 ms, total: 28 ms\n",
      "Wall time: 25.1 ms\n"
     ]
    }
   ],
   "source": [
    "%%time\n",
    "time_travel_constr_gen = (x[s, k_1] * x[s+1, k_2] * time_travel[k_1, k_2] for  s,k_1, k_2 in \n",
    "                          #[(0,9, 2)])\n",
    "                          iterer(S-1,K+F+D+B,K+F+D+B))\n",
    "left_part_time_1 = grb.quicksum(time_travel_constr_gen)\n",
    "\n",
    "left_part_time = left_part_time_1"
   ]
  },
  {
   "cell_type": "code",
   "execution_count": 141,
   "metadata": {},
   "outputs": [
    {
     "data": {
      "text/plain": [
       "<gurobi.Constr *Awaiting Model Update*>"
      ]
     },
     "execution_count": 141,
     "metadata": {},
     "output_type": "execute_result"
    }
   ],
   "source": [
    "ξ = model.addVars(range(K), name = 'xi', vtype=grb.GRB.BINARY)\n",
    "model.addConstrs((x.sum('*',k) >= ξ[k] for k in range(K))) \n",
    "model.addConstr(ξ.sum('*') <= x.sum('*',K+F)*max_towers) # get points only if disposed"
   ]
  },
  {
   "cell_type": "code",
   "execution_count": 175,
   "metadata": {},
   "outputs": [],
   "source": [
    "Time = 200.0\n",
    "Points = 220.0"
   ]
  },
  {
   "cell_type": "code",
   "execution_count": 176,
   "metadata": {},
   "outputs": [],
   "source": [
    "total_points = grb.quicksum(x.sum('*',k) for k in range(K))*45 + x.sum('*',K)*30 + x.sum('*',K+1)*55"
   ]
  },
  {
   "cell_type": "markdown",
   "metadata": {},
   "source": [
    "## Objective - points maximize"
   ]
  },
  {
   "cell_type": "code",
   "execution_count": 50,
   "metadata": {},
   "outputs": [],
   "source": [
    "model.addConstr(left_part_time <= Time, 'time')\n",
    "model.setObjective(total_points, grb.GRB.MAXIMIZE)"
   ]
  },
  {
   "cell_type": "markdown",
   "metadata": {},
   "source": [
    "## Objective - time minimize"
   ]
  },
  {
   "cell_type": "code",
   "execution_count": 177,
   "metadata": {},
   "outputs": [
    {
     "data": {
      "text/plain": [
       "<gurobi.Constr *Awaiting Model Update*>"
      ]
     },
     "execution_count": 177,
     "metadata": {},
     "output_type": "execute_result"
    }
   ],
   "source": [
    "model.addConstr(x.sum('*',2) == 0)"
   ]
  },
  {
   "cell_type": "code",
   "execution_count": 178,
   "metadata": {},
   "outputs": [],
   "source": [
    "model.addConstr(total_points == Points, 'points')\n",
    "model.setObjective(left_part_time, grb.GRB.MINIMIZE)"
   ]
  },
  {
   "cell_type": "code",
   "execution_count": 179,
   "metadata": {},
   "outputs": [
    {
     "name": "stdout",
     "output_type": "stream",
     "text": [
      "Changed value of parameter TimeLimit to 300.0\n",
      "   Prev: 1e+100  Min: 0.0  Max: 1e+100  Default: 1e+100\n",
      "Optimize a model with 63 rows, 70 columns and 456 nonzeros\n",
      "Model has 540 quadratic objective terms\n",
      "Variable types: 0 continuous, 70 integer (70 binary)\n",
      "Coefficient statistics:\n",
      "  Matrix range     [1e+00, 6e+01]\n",
      "  Objective range  [0e+00, 0e+00]\n",
      "  QObjective range [5e+00, 3e+01]\n",
      "  Bounds range     [1e+00, 1e+00]\n",
      "  RHS range        [1e+00, 2e+02]\n",
      "Presolve removed 26 rows and 27 columns\n",
      "Presolve time: 0.00s\n",
      "Presolved: 282 rows, 288 columns, 999 nonzeros\n",
      "Variable types: 0 continuous, 288 integer (288 binary)\n",
      "Found heuristic solution: objective 42.0238872\n",
      "\n",
      "Root relaxation: objective 2.612314e+00, 43 iterations, 0.00 seconds\n",
      "\n",
      "    Nodes    |    Current Node    |     Objective Bounds      |     Work\n",
      " Expl Unexpl |  Obj  Depth IntInf | Incumbent    BestBd   Gap | It/Node Time\n",
      "\n",
      "     0     0    2.61231    0   26   42.02389    2.61231  93.8%     -    0s\n",
      "     0     0    4.11903    0   22   42.02389    4.11903  90.2%     -    0s\n",
      "     0     0    4.11903    0   22   42.02389    4.11903  90.2%     -    0s\n",
      "     0     0    4.94980    0   21   42.02389    4.94980  88.2%     -    0s\n",
      "H    0     0                      37.6101326    4.94980  86.8%     -    0s\n",
      "     0     0    4.94980    0   21   37.61013    4.94980  86.8%     -    0s\n",
      "     0     0    4.99323    0   21   37.61013    4.99323  86.7%     -    0s\n",
      "H    0     0                      37.1285680    4.99323  86.6%     -    0s\n",
      "     0     0    4.99323    0   20   37.12857    4.99323  86.6%     -    0s\n",
      "     0     0    5.43363    0   23   37.12857    5.43363  85.4%     -    0s\n",
      "     0     0    5.43363    0   23   37.12857    5.43363  85.4%     -    0s\n",
      "     0     0    6.92639    0   17   37.12857    6.92639  81.3%     -    0s\n",
      "     0     0    7.05383    0   22   37.12857    7.05383  81.0%     -    0s\n",
      "     0     0    7.14067    0   23   37.12857    7.14067  80.8%     -    0s\n",
      "     0     0    7.14067    0   23   37.12857    7.14067  80.8%     -    0s\n",
      "     0     0    7.86119    0   24   37.12857    7.86119  78.8%     -    0s\n",
      "     0     0    7.91200    0   25   37.12857    7.91200  78.7%     -    0s\n",
      "     0     0    7.91200    0   25   37.12857    7.91200  78.7%     -    0s\n",
      "     0     0    8.01397    0   23   37.12857    8.01397  78.4%     -    0s\n",
      "     0     0    8.09125    0   27   37.12857    8.09125  78.2%     -    0s\n",
      "     0     0    8.09125    0   27   37.12857    8.09125  78.2%     -    0s\n",
      "     0     0    8.68266    0   27   37.12857    8.68266  76.6%     -    0s\n",
      "     0     0    8.77348    0   29   37.12857    8.77348  76.4%     -    0s\n",
      "     0     0    8.78972    0   29   37.12857    8.78972  76.3%     -    0s\n",
      "     0     0    8.80210    0   31   37.12857    8.80210  76.3%     -    0s\n",
      "     0     0    8.80210    0   31   37.12857    8.80210  76.3%     -    0s\n",
      "     0     0    9.78699    0   29   37.12857    9.78699  73.6%     -    0s\n",
      "H    0     0                      36.6404694    9.78699  73.3%     -    0s\n",
      "     0     0    9.85329    0   23   36.64047    9.85329  73.1%     -    0s\n",
      "     0     0   10.10299    0   27   36.64047   10.10299  72.4%     -    0s\n",
      "     0     0   10.10472    0   28   36.64047   10.10472  72.4%     -    0s\n",
      "     0     0   10.10472    0   27   36.64047   10.10472  72.4%     -    0s\n",
      "     0     0   10.10472    0   27   36.64047   10.10472  72.4%     -    0s\n",
      "H    0     0                      32.8775128   10.10472  69.3%     -    0s\n",
      "     0     2   10.10472    0   27   32.87751   10.10472  69.3%     -    0s\n",
      "H   88    37                      32.8691535   12.40756  62.3%   7.6    0s\n",
      "*  109    36               8      32.4068462   13.28626  59.0%   7.6    0s\n",
      "*  114    33               8      31.2758777   13.28626  57.5%   7.6    0s\n",
      "*  115    29              15      30.3810456   13.38747  55.9%   7.5    0s\n",
      "\n",
      "Cutting planes:\n",
      "  Gomory: 1\n",
      "  Clique: 5\n",
      "  MIR: 25\n",
      "  Zero half: 8\n",
      "\n",
      "Explored 337 nodes (2281 simplex iterations) in 0.40 seconds\n",
      "Thread count was 4 (of 4 available processors)\n",
      "\n",
      "Solution count 9: 30.381 31.2759 32.4068 ... 42.0239\n",
      "\n",
      "Optimal solution found (tolerance 1.00e-04)\n",
      "Best objective 3.038104555920e+01, best bound 3.038104555920e+01, gap 0.0000%\n"
     ]
    }
   ],
   "source": [
    "model.Params.TimeLimit = 300.0\n",
    "model.update()\n",
    "model.optimize()"
   ]
  },
  {
   "cell_type": "code",
   "execution_count": 180,
   "metadata": {},
   "outputs": [
    {
     "name": "stdout",
     "output_type": "stream",
     "text": [
      "\n",
      "    Variable            x \n",
      "-------------------------\n",
      "      x[0,9]            1 \n",
      "      x[1,1]            1 \n",
      "      x[2,7]            1 \n",
      "      x[3,3]            1 \n",
      "      x[4,0]            1 \n",
      "      x[5,8]            1 \n",
      "      x[6,6]            1 \n"
     ]
    }
   ],
   "source": [
    "model.printAttr('x')"
   ]
  }
 ],
 "metadata": {
  "kernelspec": {
   "display_name": "Python 3",
   "language": "python",
   "name": "python3"
  },
  "language_info": {
   "codemirror_mode": {
    "name": "ipython",
    "version": 3
   },
   "file_extension": ".py",
   "mimetype": "text/x-python",
   "name": "python",
   "nbconvert_exporter": "python",
   "pygments_lexer": "ipython3",
   "version": "3.6.1"
  }
 },
 "nbformat": 4,
 "nbformat_minor": 2
}
